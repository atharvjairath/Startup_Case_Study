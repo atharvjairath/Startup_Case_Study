{
 "cells": [
  {
   "cell_type": "markdown",
   "metadata": {},
   "source": [
    "Q1.Your Friend has developed the Product and he wants to establish the product startup and he is searching for a perfect location where getting the investment has a high chance. But due to its financial restriction, he can choose only between three locations -  Bangalore, Mumbai, and NCR. As a friend, you want to help your friend deciding the location. NCR include Gurgaon, Noida and New Delhi. Find the location where the most number of funding is done. That means, find the location where startups has received funding maximum number of times. Plot the bar graph between location and number of funding. Take city name \"Delhi\" as \"New Delhi\". Check the case-sensitiveness of cities also. That means, at some place instead of \"Bangalore\", \"bangalore\" is given. Take city name as \"Bangalore\". For few startups multiple locations are given, one Indian and one Foreign. Consider the startup if any one of the city lies in given locations."
   ]
  },
  {
   "cell_type": "code",
   "execution_count": null,
   "metadata": {},
   "outputs": [],
   "source": []
  },
  {
   "cell_type": "code",
   "execution_count": 1,
   "metadata": {},
   "outputs": [
    {
     "name": "stdout",
     "output_type": "stream",
     "text": [
      "Bangalore 635\n",
      "Mumbai 449\n",
      "New Delhi 389\n",
      "Gurgaon 241\n"
     ]
    },
    {
     "data": {
      "text/plain": [
       "<Figure size 640x480 with 1 Axes>"
      ]
     },
     "metadata": {},
     "output_type": "display_data"
    }
   ],
   "source": [
    "import matplotlib.pyplot as plt\n",
    "import csv\n",
    "import operator\n",
    "with open(\"/Users/atharvjairath/Downloads/startup_funding.csv\") as file:\n",
    "    fd=csv.reader(file,skipinitialspace=True)\n",
    "    fl=list(fd)\n",
    "    mydict={}\n",
    "    for row in fl[1:]:\n",
    "        strr=row[5]\n",
    "        strr =strr.capitalize()\n",
    "        strr=strr.replace(\"Delhi\",\"New delhi\")\n",
    "        strr=strr.replace(\"New delhi\",\"New Delhi\")\n",
    "        l1= strr.split(\"/\")\n",
    "        city=l1[0].strip()  \n",
    "        mydict[city] = mydict.get(city,0) + 1\n",
    "        \n",
    "        \n",
    "    sorted_d = dict( sorted(mydict.items(), key=operator.itemgetter(1),reverse=True))\n",
    "    count = 0\n",
    "    for i in sorted_d.keys():\n",
    "        if count>3:\n",
    "            break\n",
    "        if i == '':\n",
    "            continue\n",
    "        else:\n",
    "            print(i,sorted_d[i])\n",
    "        count+=1 \n",
    "\n",
    "    city= [ k for k in mydict ][0:4]\n",
    "    funding= [ v for v in mydict.values() ][0:4]\n",
    "    plt.bar(city, funding)\n",
    "    plt.xlabel('Cities', fontsize=10)\n",
    "    plt.ylabel('No of Funding', fontsize=10)\n",
    "    plt.title('Top Cities in India for Startup')\n",
    "    plt.xticks(city, fontsize=10, rotation=90)\n",
    "    plt.show()"
   ]
  },
  {
   "cell_type": "markdown",
   "metadata": {},
   "source": [
    "Q2.Even after trying for so many times, your friend’s startup could not find the investment. So you decided to take this matter in your hand and try to find the list of investors who probably can invest in your friend’s startup. Your list will increase the chance of your friend startup getting some initial investment by contacting these investors. Find the top 5 investors who have invested maximum number of times (consider repeat investments in one company also). In a startup, multiple investors might have invested. So consider each investor for that startup. Ignore undisclosed investors."
   ]
  },
  {
   "cell_type": "code",
   "execution_count": 3,
   "metadata": {},
   "outputs": [
    {
     "name": "stdout",
     "output_type": "stream",
     "text": [
      "<class 'csv.DictReader'>\n",
      "Sequoia Capital 64\n",
      "Accel Partners 52\n",
      "Kalaari Capital 44\n",
      "SAIF Partners 41\n",
      "Indian Angel Network 40\n"
     ]
    },
    {
     "data": {
      "image/png": "[encoded data removed]",
      "text/plain": [
       "<Figure size 432x288 with 1 Axes>"
      ]
     },
     "metadata": {
      "needs_background": "light"
     },
     "output_type": "display_data"
    }
   ],
   "source": [
    "import numpy as np\n",
    "import csv\n",
    "import operator\n",
    "\n",
    "with open('/Users/atharvjairath/Downloads/startup_funding.csv', encoding='utf8') as file_obj:\n",
    "    file_data=csv.DictReader(file_obj, skipinitialspace=True)\n",
    "    investors=[]\n",
    "    for row in file_data:\n",
    "        if not ('Undisclosed' in row['InvestorsName'] or 'undisclosed' in row['InvestorsName']):\n",
    "            for i in row['InvestorsName'].split(','):\n",
    "                investors.append(i.strip())\n",
    "    dic=dict()\n",
    "    for i in investors:\n",
    "        if i in dic.keys():\n",
    "            dic[i]+=1\n",
    "        else:\n",
    "            dic[i]=1\n",
    "    sorted_d = dict( sorted(dic.items(), key=operator.itemgetter(1),reverse=True))\n",
    "    \n",
    "    count = 0\n",
    "    for i in sorted_d.keys():\n",
    "        if count>4:\n",
    "            break\n",
    "        if i == '':\n",
    "            continue\n",
    "        \n",
    "        else:\n",
    "            print(i,sorted_d[i])\n",
    "        count+=1 \n",
    "\n",
    "        \n",
    "   \n",
    "    investors= [ k for k in sorted_d if k!=\"\"][0:5]\n",
    "    funding= [ v for v in sorted_d.values() ][0:5]\n",
    "    plt.bar(investors, funding)\n",
    "    plt.xlabel('Investors', fontsize=10)\n",
    "    plt.ylabel('No of Funding', fontsize=10)\n",
    "    plt.title('Top Investors')\n",
    "    plt.xticks(investors, fontsize=10, rotation=90)\n",
    "    plt.show()"
   ]
  },
  {
   "cell_type": "markdown",
   "metadata": {},
   "source": [
    "Q.3\n",
    "After re-analysing the dataset you found out that some investors have invested in the same startup at different number of funding rounds. So before finalising the previous list, you want to improvise it by finding the top 5 investors who have invested in different number of startups. This list will be more helpful than your previous list in finding the investment for your friend startup. Find the top 5 investors who have invested maximum number of times in different companies. That means, if one investor has invested multiple times in one startup, count one for that company. There are many errors in startup names. Ignore correcting all, just handle the important ones - Ola, Flipkart, Oyo and Paytm."
   ]
  },
  {
   "cell_type": "code",
   "execution_count": 16,
   "metadata": {},
   "outputs": [
    {
     "name": "stdout",
     "output_type": "stream",
     "text": [
      "Sequoia Capital 48\n",
      "Accel Partners 46\n",
      "Kalaari Capital 41\n",
      "Indian Angel Network 40\n",
      "Blume Ventures 36\n"
     ]
    },
    {
     "data": {
      "image/png": "[encoded data removed]",
      "text/plain": [
       "<Figure size 432x288 with 1 Axes>"
      ]
     },
     "metadata": {
      "needs_background": "light"
     },
     "output_type": "display_data"
    }
   ],
   "source": [
    "import pandas as pd\n",
    "import matplotlib.pyplot as plt\n",
    "import csv\n",
    "import operator\n",
    "df = pd.read_csv('/Users/atharvjairath/Downloads/startup_funding.csv')\n",
    "\n",
    "names = df['StartupName']\n",
    "name_corrections = set()\n",
    "for x in names:\n",
    "    if 'ola' in x.lower() or 'flipkart' in x.lower() or 'oyo' in x.lower() or 'paytm' in x.lower():\n",
    "        name_corrections.add(x)\n",
    "        \n",
    "\n",
    "x = dict.fromkeys(['OYO Rooms', 'Oyo Rooms','OyoRooms','Oyorooms'], 'Oyo')\n",
    "y = dict.fromkeys(['Ola Cabs','Olacabs'],'Ola')\n",
    "df['StartupName']=df['StartupName'].replace(x)\n",
    "df['StartupName']=df['StartupName'].replace(y)\n",
    "df['StartupName']=df['StartupName'].replace({\"Flipkart.com\":\"Flipkart\"})\n",
    "df['StartupName']=df['StartupName'].replace({'Paytm Marketplace':'Paytm'})\n",
    "df['InvestorsName'].fillna('0',inplace = True) \n",
    "\n",
    "d = {}\n",
    "\n",
    "for _,row in df.iterrows():\n",
    "    x = row['InvestorsName'].strip().rstrip(',') \n",
    "    startup = row['StartupName'].strip()\n",
    "    names = x.split(',')\n",
    "    for name in names:\n",
    "        if 'undisclosed' in name.lower(): \n",
    "            break\n",
    "        else:\n",
    "            name = name.strip()\n",
    "            if name in d:\n",
    "                if startup in d[name]:\n",
    "                    d[name][startup]+=1\n",
    "                else:\n",
    "                    d[name][startup]=1\n",
    "            else:\n",
    "                d[name]={}\n",
    "                d[name][startup]=1\n",
    "\n",
    "\n",
    "d2 = {}\n",
    "\n",
    "for investor in d:\n",
    "    d2[investor] = len(d[investor])\n",
    "    \n",
    "d2 = sorted(d2.items(), key=lambda x: x[1], reverse=True)[:5]  \n",
    "\n",
    "investors = [t[0] for t in d2]\n",
    "counts = [t[1] for t in d2]\n",
    "for i in range(len(d2)):\n",
    "    print(investors[i],counts[i])\n",
    "    \n",
    "plt.bar(investors,counts)\n",
    "plt.xticks(rotation = 45, horizontalalignment = 'center')\n",
    "plt.title('Funding by Investors')\n",
    "plt.xlabel('Investor')\n",
    "plt.ylabel('Number of startups funded')\n",
    "plt.show()"
   ]
  },
  {
   "cell_type": "markdown",
   "metadata": {},
   "source": [
    "Q.4\n",
    "Even after putting so much effort in finding the probable investors, it didn't turn out to be helpful for your friend. So you went to your investor friend to understand the situation better and your investor friend explained to you about the different Investment Types and their features. This new information will be helpful in finding the right investor. Since your friend startup is at an early stage startup, the best-suited investment type would be - Seed Funding and Crowdfunding. Find the top 5 investors who have invested in a different number of startups and their investment type is Crowdfunding or Seed Funding. Correct spelling of investment types are - \"Private Equity\", \"Seed Funding\", \"Debt Funding\", and \"Crowd Funding\". Keep an eye for any spelling mistake. You can find this by printing unique values from this column. There are many errors in startup names. Ignore correcting all, just handle the important ones - Ola, Flipkart, Oyo and Paytm"
   ]
  },
  {
   "cell_type": "code",
   "execution_count": 17,
   "metadata": {},
   "outputs": [
    {
     "name": "stdout",
     "output_type": "stream",
     "text": [
      "Indian Angel Network 33\n",
      "Rajan Anandan 23\n",
      "LetsVenture 16\n",
      "Anupam Mittal 16\n",
      "Kunal Shah 14\n"
     ]
    },
    {
     "data": {
      "image/png": "[encoded data removed]",
      "text/plain": [
       "<Figure size 432x288 with 1 Axes>"
      ]
     },
     "metadata": {
      "needs_background": "light"
     },
     "output_type": "display_data"
    }
   ],
   "source": [
    "import pandas as pd\n",
    "import matplotlib.pyplot as plt\n",
    "import csv\n",
    "import operator\n",
    "df = pd.read_csv('/Users/atharvjairath/Downloads/startup_funding.csv')\n",
    "df['InvestmentType'].replace('SeedFunding','Seed Funding',inplace=True)\n",
    "df['InvestmentType'].replace('Crowd funding','Crowd funding',inplace=True)\n",
    "df=df[(df.InvestmentType=='Crowd funding') |  (df.InvestmentType=='Seed Funding')]\n",
    "\n",
    "\n",
    "names = df['StartupName']\n",
    "name_corrections = set()\n",
    "for x in names:\n",
    "    if 'ola' in x.lower() or 'flipkart' in x.lower() or 'oyo' in x.lower() or 'paytm' in x.lower():\n",
    "        name_corrections.add(x)\n",
    "\n",
    "\n",
    "x = dict.fromkeys(['OYO Rooms', 'Oyo Rooms','OyoRooms','Oyorooms'], 'Oyo')\n",
    "y = dict.fromkeys(['Ola Cabs','Olacabs'],'Ola')\n",
    "df['StartupName']=df['StartupName'].replace(x)\n",
    "df['StartupName']=df['StartupName'].replace(y)\n",
    "df['StartupName']=df['StartupName'].replace({\"Flipkart.com\":\"Flipkart\"})\n",
    "df['StartupName']=df['StartupName'].replace({'Paytm Marketplace':'Paytm'})\n",
    "df['InvestorsName'].fillna('0',inplace = True) #nan handling of unknown investors\n",
    "\n",
    "d = {}\n",
    "\n",
    "\n",
    "for _,row in df.iterrows():\n",
    "    x = row['InvestorsName'].strip().rstrip(',') \n",
    "    startup = row['StartupName'].strip()\n",
    "    names = x.split(',')\n",
    "    for name in names:\n",
    "        if 'undisclosed' in name.lower(): \n",
    "            break\n",
    "        else:\n",
    "            name = name.strip()\n",
    "            if name in d:\n",
    "                if startup in d[name]:\n",
    "                    d[name][startup]+=1\n",
    "                else:\n",
    "                    d[name][startup]=1\n",
    "            else:\n",
    "                d[name]={}\n",
    "                d[name][startup]=1\n",
    "\n",
    "\n",
    "d2 = {}\n",
    "\n",
    "\n",
    "for investor in d:\n",
    "    d2[investor] = len(d[investor])\n",
    "    \n",
    "d2 = sorted(d2.items(), key=lambda x: x[1], reverse=True)[:5] \n",
    "\n",
    "\n",
    "investors = [t[0] for t in d2]\n",
    "counts = [t[1] for t in d2]\n",
    "for i in range(len(d2)):\n",
    "    print(investors[i],counts[i])\n",
    "    \n",
    "plt.bar(investors,counts)\n",
    "plt.xticks(rotation = 45, horizontalalignment = 'center')\n",
    "plt.title('Funding by Investors')\n",
    "plt.xlabel('Investor')\n",
    "plt.ylabel('Number of startups funded')\n",
    "plt.show()"
   ]
  },
  {
   "cell_type": "code",
   "execution_count": null,
   "metadata": {},
   "outputs": [],
   "source": []
  },
  {
   "cell_type": "markdown",
   "metadata": {},
   "source": [
    "Q5.\n",
    "Due to your immense help, your friend startup successfully got seed funding and it is on the operational mode. Now your friend wants to expand his startup and he is looking for new investors for his startup. Now you again come as a saviour to help your friend and want to create a list of probable new new investors. Before moving forward you remember your investor friend advice that finding the investors by analysing the investment type. Since your friend startup is not in early phase it is in growth stage so the best-suited investment type is Private Equity. Find the top 5 investors who have invested in a different number of startups and their investment type is Private Equity. Correct spelling of investment types are - \"Private Equity\", \"Seed Funding\", \"Debt Funding\", and \"Crowd Funding\". Keep an eye for any spelling mistake. You can find this by printing unique values from this column.There are many errors in startup names. Ignore correcting all, just handle the important ones - Ola, Flipkart, Oyo and Paytm."
   ]
  },
  {
   "cell_type": "code",
   "execution_count": 18,
   "metadata": {},
   "outputs": [
    {
     "name": "stdout",
     "output_type": "stream",
     "text": [
      "Sequoia Capital 45\n",
      "Accel Partners 42\n",
      "Kalaari Capital 35\n",
      "Blume Ventures 27\n",
      "SAIF Partners 24\n"
     ]
    },
    {
     "data": {
      "image/png": "[encoded data removed]",
      "text/plain": [
       "<Figure size 432x288 with 1 Axes>"
      ]
     },
     "metadata": {
      "needs_background": "light"
     },
     "output_type": "display_data"
    }
   ],
   "source": [
    "import pandas as pd\n",
    "import matplotlib.pyplot as plt\n",
    "import csv\n",
    "import operator\n",
    "df = pd.read_csv('/Users/atharvjairath/Downloads/startup_funding.csv')\n",
    "df['InvestmentType'].replace('PrivateEquity','Private Equity',inplace=True)\n",
    "df=df[df.InvestmentType=='Private Equity']\n",
    "\n",
    "\n",
    "names = df['StartupName']\n",
    "name_corrections = set()\n",
    "for x in names:\n",
    "    if 'ola' in x.lower() or 'flipkart' in x.lower() or 'oyo' in x.lower() or 'paytm' in x.lower():\n",
    "        name_corrections.add(x)\n",
    "\n",
    "x = dict.fromkeys(['OYO Rooms', 'Oyo Rooms','OyoRooms','Oyorooms'], 'Oyo')\n",
    "y = dict.fromkeys(['Ola Cabs','Olacabs'],'Ola')\n",
    "df['StartupName']=df['StartupName'].replace(x)\n",
    "df['StartupName']=df['StartupName'].replace(y)\n",
    "df['StartupName']=df['StartupName'].replace({\"Flipkart.com\":\"Flipkart\"})\n",
    "df['StartupName']=df['StartupName'].replace({'Paytm Marketplace':'Paytm'})\n",
    "df['InvestorsName'].fillna('0',inplace = True) \n",
    "\n",
    "d = {}\n",
    "\n",
    "\n",
    "for _,row in df.iterrows():\n",
    "    x = row['InvestorsName'].strip().rstrip(',') \n",
    "    startup = row['StartupName'].strip()\n",
    "    names = x.split(',')\n",
    "    for name in names:\n",
    "        if 'undisclosed' in name.lower(): \n",
    "            break\n",
    "        else:\n",
    "            name = name.strip()\n",
    "            if name in d:\n",
    "                if startup in d[name]:\n",
    "                    d[name][startup]+=1\n",
    "                else:\n",
    "                    d[name][startup]=1\n",
    "            else:\n",
    "                d[name]={}\n",
    "                d[name][startup]=1\n",
    "\n",
    "\n",
    "d2 = {}\n",
    "\n",
    "\n",
    "for investor in d:\n",
    "    d2[investor] = len(d[investor])\n",
    "    \n",
    "d2 = sorted(d2.items(), key=lambda x: x[1], reverse=True)[:5] \n",
    "\n",
    "investors = [t[0] for t in d2]\n",
    "counts = [t[1] for t in d2]\n",
    "for i in range(len(d2)):\n",
    "    print(investors[i],counts[i])\n",
    "    \n",
    "plt.bar(investors,counts)\n",
    "plt.xticks(rotation = 45, horizontalalignment = 'center')\n",
    "plt.title('Funding by Investors')\n",
    "plt.xlabel('Investor')\n",
    "plt.ylabel('Number of startups funded')\n",
    "plt.show()"
   ]
  }
 ],
 "metadata": {
  "kernelspec": {
   "display_name": "Python 3",
   "language": "python",
   "name": "python3"
  },
  "language_info": {
   "codemirror_mode": {
    "name": "ipython",
    "version": 3
   },
   "file_extension": ".py",
   "mimetype": "text/x-python",
   "name": "python",
   "nbconvert_exporter": "python",
   "pygments_lexer": "ipython3",
   "version": "3.7.3"
  }
 },
 "nbformat": 4,
 "nbformat_minor": 2
}
